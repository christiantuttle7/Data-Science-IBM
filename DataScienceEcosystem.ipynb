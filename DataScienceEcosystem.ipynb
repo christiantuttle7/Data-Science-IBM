{
 "cells": [
  {
   "cell_type": "markdown",
   "id": "836c4692-279e-4e20-b422-8ca3c44b19f2",
   "metadata": {},
   "source": [
    "# Data Science Tools and Ecosystem"
   ]
  },
  {
   "cell_type": "markdown",
   "id": "8385ff80-8e68-471d-98b7-e5b2d1222d98",
   "metadata": {},
   "source": [
    "In this noteboook, Data Science Tools and Ecosystem are summarized."
   ]
  },
  {
   "cell_type": "markdown",
   "id": "26df38f1-95b6-4a03-be16-202afd7bb7c7",
   "metadata": {},
   "source": [
    "Some of the popular languages that Data Scientists use are: \n",
    "<ol>\n",
    "<li>Python</li>\n",
    "<li>R</li>\n",
    "<li>SQL</li>\n",
    "</ol>"
   ]
  },
  {
   "cell_type": "markdown",
   "id": "602009e2-7f74-43cd-8416-c7acabdd77f6",
   "metadata": {},
   "source": [
    "Some of the commonly used libraries used by Data Scientists include:\n",
    "\n",
    "<ol>\n",
    "    <li>Pandas</li>\n",
    "    <li>NumPy</li>\n",
    "    <li>SciPy</li>\n",
    "</ol>\n"
   ]
  },
  {
   "cell_type": "markdown",
   "id": "bc7df000-adde-4cf3-a8a9-dd4247c44fbb",
   "metadata": {},
   "source": [
    "| Data Science Tools | \n",
    "| -------------| \n",
    "| Github | \n",
    "| R Studio |\n",
    "| Jupyter Notebook | \n"
   ]
  },
  {
   "cell_type": "markdown",
   "id": "9527edcd-585f-48bc-93bb-d0d6dc27e85a",
   "metadata": {},
   "source": [
    "### Below are a few examples of evaluating arithmetic expressions in Python"
   ]
  },
  {
   "cell_type": "code",
   "execution_count": 27,
   "id": "f8a8480e-fbd9-4b15-9e4b-8a0083c24fbc",
   "metadata": {},
   "outputs": [
    {
     "data": {
      "text/plain": [
       "17"
      ]
     },
     "execution_count": 27,
     "metadata": {},
     "output_type": "execute_result"
    }
   ],
   "source": [
    "#This a simple arithmetic expression to mutiply then add integers\n",
    "(3*4)+5"
   ]
  },
  {
   "cell_type": "code",
   "execution_count": 29,
   "id": "8d295f4b-3a88-4b0d-8422-bd7a497df815",
   "metadata": {},
   "outputs": [
    {
     "data": {
      "text/plain": [
       "3.3333333333333335"
      ]
     },
     "execution_count": 29,
     "metadata": {},
     "output_type": "execute_result"
    }
   ],
   "source": [
    "#This will convert 200 minutes to hours by diving by 60\n",
    "200/60"
   ]
  },
  {
   "cell_type": "markdown",
   "id": "c2070b96-20c7-4dc3-98df-ed62b353bf2a",
   "metadata": {},
   "source": [
    "<b>Objectives: </b>\n",
    "<ul>\n",
    "    <li>List Popular languages used in data science</li>\n",
    "    <li>List commonly used libraries in data science</li>\n",
    "    <li>Provide Data Science Tools</li>\n",
    "</ul>"
   ]
  },
  {
   "cell_type": "markdown",
   "id": "b3cedbc5-5d14-40e6-8443-035da6396e08",
   "metadata": {},
   "source": [
    "## Author\n",
    "Christian Tuttle"
   ]
  },
  {
   "cell_type": "code",
   "execution_count": null,
   "id": "af5b0406-4885-4ff9-9020-c82407522c67",
   "metadata": {},
   "outputs": [],
   "source": []
  }
 ],
 "metadata": {
  "kernelspec": {
   "display_name": "Python 3 (ipykernel)",
   "language": "python",
   "name": "python3"
  },
  "language_info": {
   "codemirror_mode": {
    "name": "ipython",
    "version": 3
   },
   "file_extension": ".py",
   "mimetype": "text/x-python",
   "name": "python",
   "nbconvert_exporter": "python",
   "pygments_lexer": "ipython3",
   "version": "3.12.4"
  }
 },
 "nbformat": 4,
 "nbformat_minor": 5
}
